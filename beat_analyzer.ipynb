{
 "cells": [
  {
   "cell_type": "markdown",
   "metadata": {},
   "source": [
    "# Beat Analyzer"
   ]
  },
  {
   "cell_type": "code",
   "execution_count": null,
   "metadata": {},
   "outputs": [],
   "source": [
    "import matplotlib.pyplot as plt\n",
    "import numpy as np\n",
    "import wave, sys\n",
    "\n",
    "# Change this to the desired file name\n",
    "raw = wave.open(\"music.wav\")\n",
    "\n",
    "signal = raw.readframes(-1)\n",
    "signal = np.frombuffer(signal, dtype =\"int16\")\n",
    "\n",
    "f_rate = raw.getframerate()\n",
    "\n",
    "time = np.linspace(0, len(signal)/f_rate, num = len(signal))\n",
    "\n",
    "plt.title(\"Sound Wave\")\n",
    "plt.xlabel(\"Time\")\n",
    "plt.plot(time[:int(5e5)], signal[:int(5e5)])\n",
    "plt.show()"
   ]
  },
  {
   "cell_type": "markdown",
   "metadata": {},
   "source": [
    "## Spectogram\n",
    "\n",
    "Using matplotlib's [`specgram`](https://matplotlib.org/stable/api/_as_gen/matplotlib.pyplot.specgram.html#matplotlib.pyplot.specgram) function, we can find the frequencies within times. "
   ]
  },
  {
   "cell_type": "code",
   "execution_count": null,
   "metadata": {},
   "outputs": [],
   "source": [
    "ranges = np.array([0, -1], dtype=int)\n",
    "print(f\"Time range = {time[ranges[0]]} - {time[ranges[1]]}\")\n",
    "\n",
    "result = plt.specgram(signal[ranges[0]:ranges[1]], NFFT=256, Fs=f_rate, cmap=\"jet\")\n",
    "plt.colorbar()\n",
    "plt.show()"
   ]
  },
  {
   "cell_type": "code",
   "execution_count": null,
   "metadata": {},
   "outputs": [],
   "source": [
    "spectrum = result[0]\n",
    "freqs = result[1]\n",
    "times = result[2]\n",
    "\n",
    "# Sorts the spectrum into categories\n",
    "bass = spectrum[np.where((20 < freqs) & (freqs < 250))]\n",
    "midrange = spectrum[np.where((250 < freqs) & (freqs < 4000))]\n",
    "high = spectrum[freqs > 4000]\n",
    "\n",
    "# If you want custom frequencies that you think the beats are in\n",
    "custom_freqs = [250, 4000]\n",
    "custom = spectrum[np.where((custom_freqs[0] < freqs) & (freqs < custom_freqs[1]))]\n",
    "\n",
    "# The time resolution from the spectogram\n",
    "dt = times[1] - times[0]\n",
    "\n",
    "# Sum of the frequencies' magnitudes \n",
    "magnitudes = np.sum(spectrum, axis=0) # axis = 0, column addition\n",
    "bass_mag = np.sum(bass, axis=0)\n",
    "midrange_mag = np.sum(midrange, axis=0)\n",
    "high_mag = np.sum(high, axis=0)\n",
    "custom_mag = np.sum(custom, axis=0)\n",
    "\n",
    "# Uncomment to see the magnitudes plot\n",
    "# plt.plot(times + time[ranges[0]], magnitudes)\n",
    "# plt.plot(times + time[ranges[0]], bass_mag)\n",
    "plt.plot(times + time[ranges[0]], midrange_mag)\n",
    "# plt.plot(times + time[ranges[0]], high_mag)\n",
    "# plt.plot(times + time[ranges[0]], custom_mag)\n",
    "\n",
    "plt.xlabel(\"Time (s)\")\n",
    "plt.ylabel(\"Magnitude\")\n",
    "plt.show()"
   ]
  },
  {
   "cell_type": "markdown",
   "metadata": {},
   "source": [
    "## Find Beat Times"
   ]
  },
  {
   "cell_type": "code",
   "execution_count": null,
   "metadata": {},
   "outputs": [],
   "source": [
    "from scipy.signal import find_peaks\n",
    "\n",
    "# https://stackoverflow.com/questions/14313510/how-to-calculate-rolling-moving-average-using-python-numpy-scipy\n",
    "def moving_average(a, n=3) :\n",
    "    ret = np.cumsum(a, dtype=float)\n",
    "    ret[n:] = ret[n:] - ret[:-n]\n",
    "    return ret[n - 1:] / n\n",
    "\n",
    "# Moving average to smooth out the curves and normalize it\n",
    "# Change this to either bass_mag, midrange_mag, high_mag, magnitudes, or custom_mag for desired peaks\n",
    "magnitudes_rolling = moving_average(midrange_mag, 30)\n",
    "magnitudes_rolling_norm = magnitudes_rolling/np.max(magnitudes_rolling)\n",
    "\n",
    "# Find the peaks where the distance between the peaks are more than 0.3 secs away\n",
    "peaks = find_peaks(magnitudes_rolling_norm, distance=0.3/(dt))\n",
    "\n",
    "plt.plot((result[2] + time[ranges[0]])[:len(magnitudes_rolling_norm)], magnitudes_rolling_norm)\n",
    "plt.scatter(result[2][peaks[0]] + time[ranges[0]], magnitudes_rolling_norm[peaks[0]], color=\"tab:orange\")\n",
    "plt.show()"
   ]
  },
  {
   "cell_type": "code",
   "execution_count": null,
   "metadata": {},
   "outputs": [],
   "source": [
    "peak_times = result[2][peaks[0]] + time[ranges[0]]\n",
    "print(\"Peak times in seconds\")\n",
    "print(peak_times.tolist())"
   ]
  },
  {
   "cell_type": "markdown",
   "metadata": {},
   "source": [
    "## References\n",
    "\n",
    "1. [Tempo and Beat Tracking, www.youtube.com](https://www.youtube.com/watch?v=FmwpkdcAXl0&t=576s)"
   ]
  }
 ],
 "metadata": {
  "kernelspec": {
   "display_name": "Python 3",
   "language": "python",
   "name": "python3"
  },
  "language_info": {
   "codemirror_mode": {
    "name": "ipython",
    "version": 3
   },
   "file_extension": ".py",
   "mimetype": "text/x-python",
   "name": "python",
   "nbconvert_exporter": "python",
   "pygments_lexer": "ipython3",
   "version": "3.8.5"
  }
 },
 "nbformat": 4,
 "nbformat_minor": 4
}

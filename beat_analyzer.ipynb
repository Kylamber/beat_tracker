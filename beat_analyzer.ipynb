{
 "cells": [
  {
   "cell_type": "markdown",
   "metadata": {},
   "source": [
    "# Beat Analyzer"
   ]
  },
  {
   "cell_type": "code",
   "execution_count": null,
   "metadata": {},
   "outputs": [],
   "source": [
    "import matplotlib.pyplot as plt\n",
    "import numpy as np\n",
    "import wave, sys\n",
    "   \n",
    "raw = wave.open(\"worlds_smallest_violin.wav\")\n",
    "\n",
    "signal = raw.readframes(-1)\n",
    "signal = np.frombuffer(signal, dtype =\"int16\")\n",
    "\n",
    "f_rate = raw.getframerate()\n",
    "\n",
    "time = np.linspace(0, len(signal)/f_rate, num = len(signal))\n",
    "\n",
    "plt.title(\"Sound Wave\")\n",
    "plt.xlabel(\"Time\")\n",
    "plt.plot(time[:int(5e5)], signal[:int(5e5)])\n",
    "plt.show()"
   ]
  },
  {
   "cell_type": "markdown",
   "metadata": {},
   "source": [
    "## Spectogram\n",
    "\n",
    "Using matplotlib's [`specgram`](https://matplotlib.org/stable/api/_as_gen/matplotlib.pyplot.specgram.html#matplotlib.pyplot.specgram) function, we can find the frequencies within times. "
   ]
  },
  {
   "cell_type": "code",
   "execution_count": null,
   "metadata": {},
   "outputs": [],
   "source": [
    "ranges = np.array([0, -1], dtype=int)\n",
    "print(f\"Time range = {time[ranges[0]]} - {time[ranges[1]]}\")\n",
    "\n",
    "result = plt.specgram(signal[ranges[0]:ranges[1]], NFFT=256, Fs=f_rate, cmap=\"jet\")\n",
    "plt.colorbar()\n",
    "plt.show()"
   ]
  },
  {
   "cell_type": "code",
   "execution_count": null,
   "metadata": {},
   "outputs": [],
   "source": [
    "spectrum = result[0]\n",
    "dt = result[2][1] - result[2][0]\n",
    "\n",
    "magnitudes = np.sum(spectrum, axis=0) # axis = 0, column addition\n",
    "\n",
    "plt.plot(result[2][1:-1] + time[ranges[0]], magnitudes[1:-1])\n",
    "\n",
    "plt.xlabel(\"Time (s)\")\n",
    "plt.ylabel(\"Magnitude\")\n",
    "plt.show()"
   ]
  },
  {
   "cell_type": "code",
   "execution_count": null,
   "metadata": {},
   "outputs": [],
   "source": [
    "from scipy.signal import find_peaks\n",
    "\n",
    "# https://stackoverflow.com/questions/14313510/how-to-calculate-rolling-moving-average-using-python-numpy-scipy\n",
    "def moving_average(a, n=3) :\n",
    "    ret = np.cumsum(a, dtype=float)\n",
    "    ret[n:] = ret[n:] - ret[:-n]\n",
    "    return ret[n - 1:] / n\n",
    "\n",
    "magnitudes_rolling = moving_average(magnitudes, 30)\n",
    "magnitudes_rolling_norm = magnitudes_rolling/np.max(magnitudes_rolling)\n",
    "\n",
    "peaks = find_peaks(magnitudes_rolling_norm, \n",
    "                   distance=0.3/(dt)\n",
    "                  )\n",
    "\n",
    "plt.plot((result[2] + time[ranges[0]])[:len(magnitudes_rolling_norm)], magnitudes_rolling_norm)\n",
    "plt.scatter(result[2][peaks[0]] + time[ranges[0]], magnitudes_rolling_norm[peaks[0]], color=\"tab:orange\")\n",
    "plt.show()"
   ]
  },
  {
   "cell_type": "code",
   "execution_count": null,
   "metadata": {},
   "outputs": [],
   "source": [
    "result[2][2] - result[2][1]"
   ]
  },
  {
   "cell_type": "code",
   "execution_count": null,
   "metadata": {},
   "outputs": [],
   "source": [
    "peak_times = result[2][peaks[0]] + time[ranges[0]]\n",
    "print(\"Peak times in seconds\", peak_times.tolist())"
   ]
  },
  {
   "cell_type": "markdown",
   "metadata": {},
   "source": [
    "## References\n",
    "\n",
    "1. [Tempo and Beat Tracking, www.youtube.com](https://www.youtube.com/watch?v=FmwpkdcAXl0&t=576s)"
   ]
  }
 ],
 "metadata": {
  "kernelspec": {
   "display_name": "Python 3",
   "language": "python",
   "name": "python3"
  },
  "language_info": {
   "codemirror_mode": {
    "name": "ipython",
    "version": 3
   },
   "file_extension": ".py",
   "mimetype": "text/x-python",
   "name": "python",
   "nbconvert_exporter": "python",
   "pygments_lexer": "ipython3",
   "version": "3.8.5"
  }
 },
 "nbformat": 4,
 "nbformat_minor": 4
}
